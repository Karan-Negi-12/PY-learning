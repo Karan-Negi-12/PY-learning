{
  "nbformat": 4,
  "nbformat_minor": 0,
  "metadata": {
    "colab": {
      "provenance": []
    },
    "kernelspec": {
      "name": "python3",
      "display_name": "Python 3"
    },
    "language_info": {
      "name": "python"
    }
  },
  "cells": [
    {
      "cell_type": "markdown",
      "source": [
        "# Task : Session 1\n",
        "Solve these questions own your own and try to test yourself what you have learned in the session.\n",
        "\n",
        "Happy Learning!"
      ],
      "metadata": {
        "id": "A05OG15VqOPF"
      }
    },
    {
      "cell_type": "markdown",
      "source": [
        "### Q1 :- Print the given strings as per stated format.\n",
        "\n",
        "**Given strings**:\n",
        "```\n",
        "\"Data\" \"Science\" \"Mentorship\" \"Program\"\n",
        "\"By\" \"CampusX\"\n",
        "```\n",
        "**Output**:\n",
        "```\n",
        "Data-Science-Mentorship-Program-started-By-CampusX\n",
        "```\n",
        "\n",
        "Concept- [Seperator and End]"
      ],
      "metadata": {
        "id": "2doIXf8bqe9_"
      }
    },
    {
      "cell_type": "code",
      "source": [
        "print(\"Data\", \"Science\", \"Mentorship\", \"Program\", sep = \"-\", end = \"-\")\n",
        "print(\"By\", \"CampusX\", sep = \"-\")"
      ],
      "metadata": {
        "id": "-em6d3KErDtp",
        "colab": {
          "base_uri": "https://localhost:8080/"
        },
        "outputId": "9311e9c7-fcc4-4932-8d04-2f50db9a2945"
      },
      "execution_count": null,
      "outputs": [
        {
          "output_type": "stream",
          "name": "stdout",
          "text": [
            "Data-Science-Mentorship-Program-By-CampusX\n"
          ]
        }
      ]
    },
    {
      "cell_type": "markdown",
      "source": [
        "### Q2:- Write a program that will convert celsius value to fahrenheit."
      ],
      "metadata": {
        "id": "1KUpN7ZTrC3_"
      }
    },
    {
      "cell_type": "code",
      "source": [
        "#°F = (°C * 9/5) + 32.\n",
        "a = float(input(\"Enter Temp in Celsius:\\n\"))\n",
        "f = (a * 9/5) + 32\n",
        "\n",
        "print(f)"
      ],
      "metadata": {
        "id": "yxKYhYQiqWfj",
        "colab": {
          "base_uri": "https://localhost:8080/"
        },
        "outputId": "a7f6059a-2153-4d2e-de51-b79277bcf4f2"
      },
      "execution_count": null,
      "outputs": [
        {
          "output_type": "stream",
          "name": "stdout",
          "text": [
            "Enter Temp in Celsius:\n",
            "36.5\n",
            "97.7\n"
          ]
        }
      ]
    },
    {
      "cell_type": "markdown",
      "source": [
        "### Q3:- Take 2 numbers as input from the user.Write a program to swap the numbers without using any special python syntax."
      ],
      "metadata": {
        "id": "RLrOBBJurLB2"
      }
    },
    {
      "cell_type": "code",
      "source": [
        "a = int(input(\"Enter 1st:\\n\"))\n",
        "b = int(input(\"Enter 2nd:\\n\"))\n",
        "\n",
        "temp = a\n",
        "a = b\n",
        "b = temp\n",
        "print(a,b)"
      ],
      "metadata": {
        "id": "yPn7if0TrJ4F",
        "colab": {
          "base_uri": "https://localhost:8080/"
        },
        "outputId": "1fe01b45-9412-4b9c-db9e-c560371a8a2c"
      },
      "execution_count": null,
      "outputs": [
        {
          "output_type": "stream",
          "name": "stdout",
          "text": [
            "Enter 1st:\n",
            "4543\n",
            "Enter 2nd:\n",
            "43\n",
            "43 4543\n"
          ]
        }
      ]
    },
    {
      "cell_type": "markdown",
      "source": [
        "### Q4:- Write a program to find the euclidean distance between two coordinates.Take both the coordinates from the user as input."
      ],
      "metadata": {
        "id": "waLCP1bjr7ML"
      }
    },
    {
      "cell_type": "code",
      "source": [
        "print(\"Enter x1 & y1\")\n",
        "x1 = int(input(\"Enter x1:\\n\"))\n",
        "y1 = int(input(\"Enter y1:\\n\"))\n",
        "\n",
        "print(\"Enter x2 & y2\")\n",
        "x2 = int(input(\"Enter x2:\\n\"))\n",
        "y2 = int(input(\"Enter y2:\\n\"))\n",
        "\n",
        "e = ((x2 - x1)**2 + (y2 - y1)**2)**0.5\n",
        "\n",
        "print(e)"
      ],
      "metadata": {
        "id": "Pl1Sv-xnrxnH",
        "colab": {
          "base_uri": "https://localhost:8080/"
        },
        "outputId": "f6f12e6a-99cf-46a3-fefd-699215b164c3"
      },
      "execution_count": null,
      "outputs": [
        {
          "output_type": "stream",
          "name": "stdout",
          "text": [
            "Enter x1 & y1\n",
            "Enter x1:\n",
            "6\n",
            "Enter y1:\n",
            "5\n",
            "Enter x2 & y2\n",
            "Enter x2:\n",
            "8\n",
            "Enter y2:\n",
            "9\n",
            "4.47213595499958\n"
          ]
        }
      ]
    },
    {
      "cell_type": "markdown",
      "source": [
        "### Q5:- Write a program to find the simple interest when the value of principle,rate of interest and time period is provided by the user.\n"
      ],
      "metadata": {
        "id": "VLrhg-FRsHjR"
      }
    },
    {
      "cell_type": "code",
      "source": [
        "#A = p(1+rt)\n",
        "\n",
        "p = float(input(\"Enter Principle: \"))\n",
        "r = float(input(\"Enter rate: \"))\n",
        "i = float(input(\"Enter time: \"))\n",
        "\n",
        "a = p *(1 + (r *i))\n",
        "\n",
        "print(a)\n"
      ],
      "metadata": {
        "id": "s40DlReZsTmY",
        "colab": {
          "base_uri": "https://localhost:8080/"
        },
        "outputId": "830048f2-8164-4411-e789-dc4f4e3a1dd8"
      },
      "execution_count": null,
      "outputs": [
        {
          "output_type": "stream",
          "name": "stdout",
          "text": [
            "Enter Principle: 500000\n",
            "Enter rate: 8\n",
            "Enter time: 40\n",
            "160500000.0\n"
          ]
        }
      ]
    },
    {
      "cell_type": "markdown",
      "source": [
        "### Q6:- Write a program that will tell the number of dogs and chicken are there when the user will provide the value of total heads and legs.\n",
        "\n",
        "For example:\n",
        "Input:\n",
        "heads -> 4\n",
        "legs -> 12\n",
        "<br>\n",
        "Output:\n",
        "dogs -> 2\n",
        "chicken -> 2\n",
        "\n",
        "\n",
        "\n"
      ],
      "metadata": {
        "id": "LMy0BTUktYKa"
      }
    },
    {
      "cell_type": "code",
      "source": [
        "heads = int(input(\"Enter the total number of heads: \"))\n",
        "legs = int(input(\"Enter the total number of legs: \"))\n",
        "\n",
        "solution_found = False  # Flag to track if a solution is found\n",
        "\n",
        "for chickens in range(heads + 1):\n",
        "    dogs = heads - chickens\n",
        "    if (2 * chickens) + (4 * dogs) == legs:\n",
        "        print(f\"Number of chickens: {chickens}\")\n",
        "        print(f\"Number of dogs: {dogs}\")\n",
        "        solution_found = True\n",
        "        break  # Exit the loop once a solution is found\n",
        "\n",
        "if not solution_found:\n",
        "    print(\"No solution exists for the given input.\")"
      ],
      "metadata": {
        "id": "XSBvJoA4tXaG",
        "colab": {
          "base_uri": "https://localhost:8080/"
        },
        "outputId": "57042859-ed05-40f9-b49a-530e244a6d10"
      },
      "execution_count": 16,
      "outputs": [
        {
          "output_type": "stream",
          "name": "stdout",
          "text": [
            "Enter the total number of heads: 30\n",
            "Enter the total number of legs: 100\n",
            "Number of chickens: 10\n",
            "Number of dogs: 20\n"
          ]
        }
      ]
    },
    {
      "cell_type": "markdown",
      "source": [
        "### Q7:- Write a program to find the sum of squares of first n natural numbers where n will be provided by the user."
      ],
      "metadata": {
        "id": "gJ7C5kZYt4BP"
      }
    },
    {
      "cell_type": "code",
      "source": [
        "n = int(input(\"Enter the value of n: \"))\n",
        "\n",
        "if n <= 0:\n",
        "    print(\"The sum of squares is 0 for non-positive n.\")\n",
        "else:\n",
        "    total_sum = 0\n",
        "    for i in range(1, n + 1):\n",
        "        total_sum += i * i  # or total_sum += i ** 2\n",
        "    print(f\"The sum of squares of the first {n} natural numbers is: {total_sum}\")\n"
      ],
      "metadata": {
        "id": "_tHsmEHzt2nX",
        "colab": {
          "base_uri": "https://localhost:8080/"
        },
        "outputId": "9bb4f816-85b5-4af7-80a0-d0dc1446bf36"
      },
      "execution_count": null,
      "outputs": [
        {
          "output_type": "stream",
          "name": "stdout",
          "text": [
            "Enter the value of n: 6\n",
            "The sum of squares of the first 6 natural numbers is: 91\n"
          ]
        }
      ]
    },
    {
      "cell_type": "markdown",
      "source": [
        "### Q8:- Given the first 2 terms of an Arithmetic Series.Find the Nth term of the series. Assume all inputs are provided by the user."
      ],
      "metadata": {
        "id": "FHrMM7g-yG1h"
      }
    },
    {
      "cell_type": "code",
      "source": [
        "n = int(input(\"Number of terms:\\n\"))\n",
        "n1 =  int(input(\"enter n1:\\n\"))\n",
        "n2 =  int(input(\"enter n2:\\n\"))\n",
        "\n",
        "D = n2 - n1\n",
        "\n",
        "ct = n1\n",
        "for i in range(n-1):\n",
        "  ct += D\n",
        "\n",
        "print(ct)"
      ],
      "metadata": {
        "id": "go4_kmZmyVSx",
        "colab": {
          "base_uri": "https://localhost:8080/"
        },
        "outputId": "86c3ede0-6dc1-412b-81b6-64321a5ee34e"
      },
      "execution_count": 11,
      "outputs": [
        {
          "output_type": "stream",
          "name": "stdout",
          "text": [
            "Number of terms:\n",
            "4\n",
            "enter n1:\n",
            "5\n",
            "enter n2:\n",
            "7\n",
            "11\n"
          ]
        }
      ]
    },
    {
      "cell_type": "markdown",
      "source": [
        "### Q9:- Given 2 fractions, find the sum of those 2 fractions.Take the numerator and denominator values of the fractions from the user."
      ],
      "metadata": {
        "id": "QgyRX_es1oum"
      }
    },
    {
      "cell_type": "code",
      "source": [
        "n1 = int(input(\"enter numenator for n1:\\n\"))\n",
        "d1 = int(input(\"enter Deno for n1:\\n\"))\n",
        "n2 = int(input(\"enter numenator for n2:\\n\"))\n",
        "d2 = int(input(\"enter deno for n2:\\n\"))\n",
        "\"\"\"\n",
        "sum = (n1/d1) + (n2/d2)\n",
        "print(sum)\n",
        "\"\"\"\n",
        "\n",
        "lcm = d1 * d2\n",
        "\n",
        "nn1 = d1*n2\n",
        "nn2 = d2*n1\n",
        "\n",
        "sum = nn1 + nn2\n",
        "print(f\"sum{sum}/{lcm}\")\n",
        "\n",
        "\n"
      ],
      "metadata": {
        "id": "X05xqFS1yW16",
        "colab": {
          "base_uri": "https://localhost:8080/"
        },
        "outputId": "e402141b-c673-48bb-8fae-daf52bab9cc7"
      },
      "execution_count": 14,
      "outputs": [
        {
          "output_type": "stream",
          "name": "stdout",
          "text": [
            "enter numenator for n1:\n",
            "5\n",
            "enter Deno for n1:\n",
            "6\n",
            "enter numenator for n2:\n",
            "5\n",
            "enter deno for n2:\n",
            "6\n",
            "sum60/36\n"
          ]
        }
      ]
    },
    {
      "cell_type": "markdown",
      "source": [
        "### Q10:- Given the height, width and breadth of a milk tank, you have to find out how many glasses of milk can be obtained? Assume all the inputs are provided by the user.\n",
        "\n",
        "\n",
        "\n",
        "Input:<br>\n",
        "Dimensions of the milk tank<br>\n",
        "H = 20cm, L = 20cm, B = 20cm\n",
        "<br><br>\n",
        "Dimensions of the glass<br>\n",
        "h = 3cm, r = 1cm"
      ],
      "metadata": {
        "id": "eaql38ln13u7"
      }
    },
    {
      "cell_type": "code",
      "source": [
        "l = int(input(\"Length:\\n\"))\n",
        "b = int(input(\"breath:\\n\"))\n",
        "h = int(input(\"height:\\n\"))\n",
        "\n",
        "r = int(input(\"Length:\\n\"))\n",
        "hc = int(input(\"height of glass:\\n\"))\n",
        "\n",
        "glasses = (l*b*h) / ((22/7)* r**2 * hc)\n",
        "print(glasses)\n"
      ],
      "metadata": {
        "id": "FePZqno74eWv",
        "colab": {
          "base_uri": "https://localhost:8080/"
        },
        "outputId": "289aae62-964b-491a-ab4f-2666e916675a"
      },
      "execution_count": 15,
      "outputs": [
        {
          "output_type": "stream",
          "name": "stdout",
          "text": [
            "Length:\n",
            "10\n",
            "breath:\n",
            "10\n",
            "height:\n",
            "45\n",
            "Length:\n",
            "3\n",
            "height of glass:\n",
            "4\n",
            "39.77272727272727\n"
          ]
        }
      ]
    }
  ]
}